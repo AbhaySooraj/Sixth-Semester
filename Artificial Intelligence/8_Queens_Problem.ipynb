{
  "nbformat": 4,
  "nbformat_minor": 0,
  "metadata": {
    "colab": {
      "provenance": [],
      "authorship_tag": "ABX9TyOOGjyMDh2t4JtSQLi1up4T",
      "include_colab_link": true
    },
    "kernelspec": {
      "name": "python3",
      "display_name": "Python 3"
    },
    "language_info": {
      "name": "python"
    }
  },
  "cells": [
    {
      "cell_type": "markdown",
      "metadata": {
        "id": "view-in-github",
        "colab_type": "text"
      },
      "source": [
        "<a href=\"https://colab.research.google.com/github/AbhaySooraj/Sixth-Semester/blob/main/8_Queens_Problem.ipynb\" target=\"_parent\"><img src=\"https://colab.research.google.com/assets/colab-badge.svg\" alt=\"Open In Colab\"/></a>"
      ]
    },
    {
      "cell_type": "code",
      "execution_count": 33,
      "metadata": {
        "colab": {
          "base_uri": "https://localhost:8080/"
        },
        "id": "SLFF8LBBbTE0",
        "outputId": "0c54533c-f236-4d77-9d8b-b1896d840002"
      },
      "outputs": [
        {
          "output_type": "stream",
          "name": "stdout",
          "text": [
            "Enter the number of Queens :8\n",
            "1 0 0 0 0 0 0 0 \n",
            "\n",
            "0 0 0 0 1 0 0 0 \n",
            "\n",
            "0 0 0 0 0 0 0 1 \n",
            "\n",
            "0 0 0 0 0 1 0 0 \n",
            "\n",
            "0 0 1 0 0 0 0 0 \n",
            "\n",
            "0 0 0 0 0 0 1 0 \n",
            "\n",
            "0 1 0 0 0 0 0 0 \n",
            "\n",
            "0 0 0 1 0 0 0 0 \n",
            "\n"
          ]
        }
      ],
      "source": [
        "def attack(a,p,q,n):\n",
        "  t=True\n",
        "  for i in range(0,n):\n",
        "    if(a[p][i]==1):\n",
        "      t=False\n",
        "      return t\n",
        "  for i in range(0,n):\n",
        "    if(a[i][q]==1):\n",
        "      t=False\n",
        "      return t\n",
        "  i=0\n",
        "  while((p-i>=0 and q-i>=0) or (p+i<n and q+i<n)):\n",
        "    #print(p-i,\" \",p+i,\" \",q-i,\" \",q+i,\"\\n\")\n",
        "    if(p-i>=0 and q-i>=0):\n",
        "      if(a[p-i][q-i]==1):\n",
        "        t=False\n",
        "        return t\n",
        "\n",
        "    if(p+i<n and q+i<n):\n",
        "      if(a[p+i][q+i]==1):\n",
        "        t=False\n",
        "        return t\n",
        "    i=i+1\n",
        "\n",
        "  i=0\n",
        "  while((p+i<n and q-i>=0) or (p-i>=0 and q+i<n)):\n",
        "    #print(p-i,\" \",p+i,\" \",q-i,\" \",q+i,\"\\n\")\n",
        "    if(p+i<n and q-i>=0):\n",
        "      if(a[p+i][q-i]==1):\n",
        "        t=False\n",
        "        return t\n",
        "\n",
        "    if(p-i>=0 and q+i<n):\n",
        "      if(a[p-i][q+i]==1):\n",
        "        t=False\n",
        "        return t\n",
        "    i=i+1\n",
        "  return t\n",
        "\n",
        "\n",
        "\n",
        "\n",
        "def placing_queens(a,y,x):\n",
        "  if(y>=x):\n",
        "    return True\n",
        "  for i in range(0,x):\n",
        "      if(attack(a,y,i,n)):\n",
        "        a[y][i]=1\n",
        "        if(placing_queens(a,y+1,x)):\n",
        "          return True\n",
        "        a[y][i]=0\n",
        "  return False\n",
        "\n",
        "\n",
        "n=int(input(\"Enter the number of Queens :\"))\n",
        "a=[]\n",
        "for i in range(0,n):\n",
        "  b=[]\n",
        "  for j in range(0,n):\n",
        "    b.append(0)\n",
        "  a.append(b)\n",
        "y=0\n",
        "placing_queens(a,y,n);\n",
        "\n",
        "for i in range(0,n):\n",
        "  for j in range(0,n):\n",
        "    print(a[i][j],end=\" \")\n",
        "  print(\"\\n\")\n"
      ]
    }
  ]
}
