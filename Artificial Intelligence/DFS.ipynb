{
  "cells": [
    {
      "cell_type": "markdown",
      "metadata": {
        "colab_type": "text",
        "id": "view-in-github"
      },
      "source": [
        "<a href=\"https://colab.research.google.com/github/AbhaySooraj/Sixth-Semester/blob/main/DFS.ipynb\" target=\"_parent\"><img src=\"https://colab.research.google.com/assets/colab-badge.svg\" alt=\"Open In Colab\"/></a>"
      ]
    },
    {
      "cell_type": "code",
      "execution_count": 2,
      "metadata": {
        "colab": {
          "base_uri": "https://localhost:8080/"
        },
        "id": "QIXC1EGYlYiW",
        "outputId": "51d366f3-e4f0-4759-f587-e5d0ab566fbe"
      },
      "outputs": [
        {
          "name": "stdout",
          "output_type": "stream",
          "text": [
            "0\n",
            "1\n",
            "2\n",
            "4\n",
            "3\n"
          ]
        }
      ],
      "source": [
        "x=int(input(\"Enter the number of nodes :\"))\n",
        "graph={}\n",
        "for i in range(x):\n",
        "  y=input(\"Enter parent node :\")\n",
        "  z=input(\"Enter child nodes :\")\n",
        "  z=z.split()\n",
        "  graph[y]=z\n",
        "def dfs(visited,graph,node):\n",
        "  if(node not in visited):\n",
        "    print(node)\n",
        "    visited.append(node)\n",
        "    for neighbour in graph[node]:\n",
        "      dfs(visited,graph,neighbour)\n",
        "visited=[]\n",
        "a=input(\"Enter starting node :\")\n",
        "dfs(visited, graph, a)"
      ]
    }
  ],
  "metadata": {
    "colab": {
      "authorship_tag": "ABX9TyPEuj3+k9raU1HQqGA7Jrzv",
      "include_colab_link": true,
      "provenance": []
    },
    "kernelspec": {
      "display_name": "Python 3",
      "name": "python3"
    },
    "language_info": {
      "codemirror_mode": {
        "name": "ipython",
        "version": 3
      },
      "file_extension": ".py",
      "mimetype": "text/x-python",
      "name": "python",
      "nbconvert_exporter": "python",
      "pygments_lexer": "ipython3",
      "version": "3.11.8"
    }
  },
  "nbformat": 4,
  "nbformat_minor": 0
}
