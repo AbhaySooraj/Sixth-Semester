{
  "cells": [
    {
      "cell_type": "markdown",
      "metadata": {
        "colab_type": "text",
        "id": "view-in-github"
      },
      "source": [
        "<a href=\"https://colab.research.google.com/github/AbhaySooraj/Sixth-Semester/blob/main/DFS.ipynb\" target=\"_parent\"><img src=\"https://colab.research.google.com/assets/colab-badge.svg\" alt=\"Open In Colab\"/></a>"
      ]
    },
    {
      "cell_type": "code",
      "execution_count": 1,
      "metadata": {
        "colab": {
          "base_uri": "https://localhost:8080/"
        },
        "id": "QIXC1EGYlYiW",
        "outputId": "51d366f3-e4f0-4759-f587-e5d0ab566fbe"
      },
      "outputs": [
        {
          "name": "stdout",
          "output_type": "stream",
          "text": [
            "a\n"
          ]
        },
        {
          "ename": "KeyError",
          "evalue": "'a'",
          "output_type": "error",
          "traceback": [
            "\u001b[1;31m---------------------------------------------------------------------------\u001b[0m",
            "\u001b[1;31mKeyError\u001b[0m                                  Traceback (most recent call last)",
            "Cell \u001b[1;32mIn[1], line 15\u001b[0m\n\u001b[0;32m     13\u001b[0m       dfs(visited,graph,neighbour)\n\u001b[0;32m     14\u001b[0m visited\u001b[38;5;241m=\u001b[39m[]\n\u001b[1;32m---> 15\u001b[0m \u001b[43mdfs\u001b[49m\u001b[43m(\u001b[49m\u001b[43mvisited\u001b[49m\u001b[43m,\u001b[49m\u001b[43m \u001b[49m\u001b[43mgraph\u001b[49m\u001b[43m,\u001b[49m\u001b[43m \u001b[49m\u001b[38;5;124;43m\"\u001b[39;49m\u001b[38;5;124;43ma\u001b[39;49m\u001b[38;5;124;43m\"\u001b[39;49m\u001b[43m)\u001b[49m\n",
            "Cell \u001b[1;32mIn[1], line 12\u001b[0m, in \u001b[0;36mdfs\u001b[1;34m(visited, graph, node)\u001b[0m\n\u001b[0;32m     10\u001b[0m \u001b[38;5;28mprint\u001b[39m(node)\n\u001b[0;32m     11\u001b[0m visited\u001b[38;5;241m.\u001b[39mappend(node)\n\u001b[1;32m---> 12\u001b[0m \u001b[38;5;28;01mfor\u001b[39;00m neighbour \u001b[38;5;129;01min\u001b[39;00m \u001b[43mgraph\u001b[49m\u001b[43m[\u001b[49m\u001b[43mnode\u001b[49m\u001b[43m]\u001b[49m:\n\u001b[0;32m     13\u001b[0m   dfs(visited,graph,neighbour)\n",
            "\u001b[1;31mKeyError\u001b[0m: 'a'"
          ]
        }
      ],
      "source": [
        "x=int(input(\"Enter the number of nodes :\"))\n",
        "graph={}\n",
        "for i in range(x):\n",
        "  y=input(\"Enter parent node :\")\n",
        "  z=input(\"Enter child nodes :\")\n",
        "  z=z.split()\n",
        "  graph[y]=z\n",
        "def dfs(visited,graph,node):\n",
        "  if(node not in visited):\n",
        "    print(node)\n",
        "    visited.append(node)\n",
        "    for neighbour in graph[node]:\n",
        "      dfs(visited,graph,neighbour)\n",
        "visited=[]\n",
        "a=input(\"Enter starting node :\")\n",
        "dfs(visited, graph, \"a\")"
      ]
    }
  ],
  "metadata": {
    "colab": {
      "authorship_tag": "ABX9TyPEuj3+k9raU1HQqGA7Jrzv",
      "include_colab_link": true,
      "provenance": []
    },
    "kernelspec": {
      "display_name": "Python 3",
      "name": "python3"
    },
    "language_info": {
      "codemirror_mode": {
        "name": "ipython",
        "version": 3
      },
      "file_extension": ".py",
      "mimetype": "text/x-python",
      "name": "python",
      "nbconvert_exporter": "python",
      "pygments_lexer": "ipython3",
      "version": "3.11.8"
    }
  },
  "nbformat": 4,
  "nbformat_minor": 0
}
