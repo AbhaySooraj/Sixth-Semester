{
  "cells": [
    {
      "cell_type": "markdown",
      "metadata": {
        "colab_type": "text",
        "id": "view-in-github"
      },
      "source": [
        "<a href=\"https://colab.research.google.com/github/AbhaySooraj/Sixth-Semester/blob/main/Hangman.ipynb\" target=\"_parent\"><img src=\"https://colab.research.google.com/assets/colab-badge.svg\" alt=\"Open In Colab\"/></a>"
      ]
    },
    {
      "cell_type": "code",
      "execution_count": 1,
      "metadata": {
        "colab": {
          "base_uri": "https://localhost:8080/"
        },
        "id": "7AbXz6SOAu_3",
        "outputId": "375b567c-6266-4dea-f492-30293584ff5f"
      },
      "outputs": [
        {
          "name": "stdout",
          "output_type": "stream",
          "text": [
            "['_', '_', '_', '_', '_', '_']\n",
            "['_', '_', '_', '_', '_', '_']\n",
            "['p', '_', '_', '_', '_', '_']\n",
            "['p', 'y', '_', '_', '_', '_']\n",
            "['p', 'y', 't', '_', '_', '_']\n",
            "['p', 'y', 't', 'h', '_', '_']\n",
            "['p', 'y', 't', 'h', '_', 'n']\n",
            "['p', 'y', 't', 'h', '_', 'n']\n",
            "['p', 'y', 't', 'h', '_', 'n']\n",
            "You have lost\n"
          ]
        }
      ],
      "source": [
        "import random\n",
        "x=input(\"Enter name of the user :\")\n",
        "words=[\"hello\",\"python\",\"java\"]\n",
        "word = random.choice(words)\n",
        "word=list(word)\n",
        "x=len(word)\n",
        "attempts=8\n",
        "answer=[]\n",
        "for i in range(0,x):\n",
        "  answer.append(\"_\")\n",
        "print(answer)\n",
        "while(attempts>0):\n",
        "  a=input(\"Enter character :\")\n",
        "  for i in range(0,x):\n",
        "    if(word[i]==a):\n",
        "      answer[i]=a\n",
        "  attempts=attempts-1\n",
        "  print(answer)\n",
        "  if(word==answer):\n",
        "    print(\"You have won!!!\")\n",
        "    break\n",
        "if(word!=answer):\n",
        "  print(\"You have lost\")\n"
      ]
    }
  ],
  "metadata": {
    "colab": {
      "authorship_tag": "ABX9TyPi7dS66Qfw4ZEPlnXpYB78",
      "include_colab_link": true,
      "provenance": []
    },
    "kernelspec": {
      "display_name": "Python 3",
      "name": "python3"
    },
    "language_info": {
      "codemirror_mode": {
        "name": "ipython",
        "version": 3
      },
      "file_extension": ".py",
      "mimetype": "text/x-python",
      "name": "python",
      "nbconvert_exporter": "python",
      "pygments_lexer": "ipython3",
      "version": "3.11.8"
    }
  },
  "nbformat": 4,
  "nbformat_minor": 0
}
