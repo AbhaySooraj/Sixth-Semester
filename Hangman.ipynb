{
  "nbformat": 4,
  "nbformat_minor": 0,
  "metadata": {
    "colab": {
      "provenance": [],
      "authorship_tag": "ABX9TyNFGQlx/ptg5XJtRNP55s/j",
      "include_colab_link": true
    },
    "kernelspec": {
      "name": "python3",
      "display_name": "Python 3"
    },
    "language_info": {
      "name": "python"
    }
  },
  "cells": [
    {
      "cell_type": "markdown",
      "metadata": {
        "id": "view-in-github",
        "colab_type": "text"
      },
      "source": [
        "<a href=\"https://colab.research.google.com/github/AbhaySooraj/Sixth-Semester/blob/main/Hangman.ipynb\" target=\"_parent\"><img src=\"https://colab.research.google.com/assets/colab-badge.svg\" alt=\"Open In Colab\"/></a>"
      ]
    },
    {
      "cell_type": "code",
      "execution_count": 6,
      "metadata": {
        "colab": {
          "base_uri": "https://localhost:8080/"
        },
        "id": "7AbXz6SOAu_3",
        "outputId": "eb3ef9ea-a23b-42fa-a068-f9b07310fa3f"
      },
      "outputs": [
        {
          "output_type": "stream",
          "name": "stdout",
          "text": [
            "Enter name of the user :L\n",
            "python\n",
            "6\n"
          ]
        }
      ],
      "source": [
        "import random\n",
        "x=input(\"Enter name of the user :\")\n",
        "words=[\"hello\",\"python\",\"java\"]\n",
        "word = random.choice(words)\n",
        "print(word)\n",
        "x=len(word)\n",
        "attempts=8\n",
        "answer=[]\n",
        "for i in range(0,x):\n",
        "  answer.append(\"_\")\n",
        "while(attempts>0):\n",
        "  print(answer)\n",
        "  a=input(\"Enter character\")\n"
      ]
    }
  ]
}