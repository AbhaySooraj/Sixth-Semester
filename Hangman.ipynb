{
  "nbformat": 4,
  "nbformat_minor": 0,
  "metadata": {
    "colab": {
      "provenance": [],
      "authorship_tag": "ABX9TyPi7dS66Qfw4ZEPlnXpYB78",
      "include_colab_link": true
    },
    "kernelspec": {
      "name": "python3",
      "display_name": "Python 3"
    },
    "language_info": {
      "name": "python"
    }
  },
  "cells": [
    {
      "cell_type": "markdown",
      "metadata": {
        "id": "view-in-github",
        "colab_type": "text"
      },
      "source": [
        "<a href=\"https://colab.research.google.com/github/AbhaySooraj/Sixth-Semester/blob/main/Hangman.ipynb\" target=\"_parent\"><img src=\"https://colab.research.google.com/assets/colab-badge.svg\" alt=\"Open In Colab\"/></a>"
      ]
    },
    {
      "cell_type": "code",
      "execution_count": 15,
      "metadata": {
        "colab": {
          "base_uri": "https://localhost:8080/"
        },
        "id": "7AbXz6SOAu_3",
        "outputId": "375b567c-6266-4dea-f492-30293584ff5f"
      },
      "outputs": [
        {
          "output_type": "stream",
          "name": "stdout",
          "text": [
            "Enter name of the user :L\n",
            "['h', 'e', 'l', 'l', 'o']\n",
            "['_', '_', '_', '_', '_']\n",
            "Enter character :h\n",
            "['h', '_', '_', '_', '_']\n",
            "Enter character :e\n",
            "['h', 'e', '_', '_', '_']\n",
            "Enter character :l\n",
            "['h', 'e', 'l', 'l', '_']\n",
            "Enter character :o\n",
            "['h', 'e', 'l', 'l', 'o']\n",
            "You have won!!!\n"
          ]
        }
      ],
      "source": [
        "import random\n",
        "x=input(\"Enter name of the user :\")\n",
        "words=[\"hello\",\"python\",\"java\"]\n",
        "word = random.choice(words)\n",
        "word=list(word)\n",
        "x=len(word)\n",
        "attempts=8\n",
        "answer=[]\n",
        "for i in range(0,x):\n",
        "  answer.append(\"_\")\n",
        "print(answer)\n",
        "while(attempts>0):\n",
        "  a=input(\"Enter character :\")\n",
        "  for i in range(0,x):\n",
        "    if(word[i]==a):\n",
        "      answer[i]=a\n",
        "  attempts=attempts-1\n",
        "  print(answer)\n",
        "  if(word==answer):\n",
        "    print(\"You have won!!!\")\n",
        "    break\n",
        "if(word!=answer):\n",
        "  print(\"You have lost\")\n"
      ]
    }
  ]
}