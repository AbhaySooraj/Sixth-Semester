{
  "nbformat": 4,
  "nbformat_minor": 0,
  "metadata": {
    "colab": {
      "provenance": [],
      "authorship_tag": "ABX9TyPxeL/VAXl7uq1WHeD8rxHn",
      "include_colab_link": true
    },
    "kernelspec": {
      "name": "python3",
      "display_name": "Python 3"
    },
    "language_info": {
      "name": "python"
    }
  },
  "cells": [
    {
      "cell_type": "markdown",
      "metadata": {
        "id": "view-in-github",
        "colab_type": "text"
      },
      "source": [
        "<a href=\"https://colab.research.google.com/github/AbhaySooraj/Sixth-Semester/blob/main/Pgm1.ipynb\" target=\"_parent\"><img src=\"https://colab.research.google.com/assets/colab-badge.svg\" alt=\"Open In Colab\"/></a>"
      ]
    },
    {
      "cell_type": "code",
      "execution_count": 10,
      "metadata": {
        "colab": {
          "base_uri": "https://localhost:8080/"
        },
        "id": "Rb3eLCc-UUPG",
        "outputId": "917892c2-e860-4f3b-95fd-3466423d5b25"
      },
      "outputs": [
        {
          "output_type": "stream",
          "name": "stdout",
          "text": [
            "Enter number of lists :3\n",
            "Enter the number of elements in list 3\n",
            "1\n",
            "2\n",
            "3\n",
            "Enter the number of elements in list 2\n",
            "4\n",
            "5\n",
            "Enter the number of elements in list 4\n",
            "6\n",
            "7\n",
            "8\n",
            "9\n",
            "Nested List is  [['1', '2', '3'], ['4', '5'], ['6', '7', '8', '9']]\n",
            "Concatenated list is  [['1', '2', '3'], ['4', '5'], ['6', '7', '8', '9'], '10', '11']\n"
          ]
        }
      ],
      "source": [
        "#Q1) Write a python program to implement a nested list and two concatenate two list.\n",
        "x=int(input(\"Enter number of lists :\"))\n",
        "list1=[]\n",
        "for i in range(0,x):\n",
        "  list2=[]\n",
        "  y=int(input(\"Enter the number of elements in list \"))\n",
        "  for y in range(0,y):\n",
        "    z=input()\n",
        "    list2.append(z)\n",
        "  list1.append(list2)\n",
        "print(\"Nested List is \",list1)\n",
        "\n",
        "list3=['10','11']\n",
        "list1=list1+list3\n",
        "print(\"Concatenated list is \",list1)\n",
        "#list1=[[1,2,3],[4,5,6],[7,8,9]]\n",
        "#print(list1[2])"
      ]
    },
    {
      "cell_type": "code",
      "source": [
        "#Q2) Write a numpy program to convert a list of numeric values into a one dimensional numpy array.\n",
        "import numpy as np\n",
        "list1=[10.3,11,42.58,100]\n",
        "npa=np.array(list1)\n",
        "print(\"The numpy array is :\",npa)"
      ],
      "metadata": {
        "colab": {
          "base_uri": "https://localhost:8080/"
        },
        "id": "L39VgdxGcEM5",
        "outputId": "6379b438-0175-44b1-ac2a-d545b03fe3ec"
      },
      "execution_count": 11,
      "outputs": [
        {
          "output_type": "stream",
          "name": "stdout",
          "text": [
            "The numpy array is : [ 10.3   11.    42.58 100.  ]\n"
          ]
        }
      ]
    },
    {
      "cell_type": "code",
      "source": [
        "#Q3) Write a numpy program to reverse an array.\n",
        "import numpy as np\n",
        "l1=np.array([10.3,11,42.58,100])\n",
        "rl1=np.flip(l1)\n",
        "print(rl1)"
      ],
      "metadata": {
        "colab": {
          "base_uri": "https://localhost:8080/"
        },
        "id": "pPzToYHHeDQj",
        "outputId": "96d3821a-51d3-4f38-ae96-620159f93c76"
      },
      "execution_count": 12,
      "outputs": [
        {
          "output_type": "stream",
          "name": "stdout",
          "text": [
            "[100.    42.58  11.    10.3 ]\n"
          ]
        }
      ]
    },
    {
      "cell_type": "code",
      "source": [
        "#Q4) Write a numpy program to capitalize the first letter, lowercase, uppercase, titlecase of all elements of given array.\n",
        "import numpy as np\n",
        "x=np.array([\"python\",\"PHP\",\"Java\",\"C++\"])\n",
        "np1=np.char.capitalize(x)\n",
        "np2=np.char.lower(x)\n",
        "np3=np.char.upper(x)\n",
        "np4=np.char.title(x)\n",
        "\n",
        "print(\"\\nCapitalized: \", np1)\n",
        "print(\"Lowered: \", np2)\n",
        "print(\"Uppered: \", np3)\n",
        "print(\"Titlecased: \", np4)\n"
      ],
      "metadata": {
        "colab": {
          "base_uri": "https://localhost:8080/"
        },
        "id": "2O0uArMmflIZ",
        "outputId": "a181e80a-e6e3-4b00-9673-e7b83ef65d7e"
      },
      "execution_count": 15,
      "outputs": [
        {
          "output_type": "stream",
          "name": "stdout",
          "text": [
            "\n",
            "Capitalized:  ['Python' 'Php' 'Java' 'C++']\n",
            "Lowered:  ['python' 'php' 'java' 'c++']\n",
            "Uppered:  ['PYTHON' 'PHP' 'JAVA' 'C++']\n",
            "Titlecased:  ['Python' 'Php' 'Java' 'C++']\n"
          ]
        }
      ]
    }
  ]
}