{
  "nbformat": 4,
  "nbformat_minor": 0,
  "metadata": {
    "colab": {
      "provenance": [],
      "authorship_tag": "ABX9TyPEuj3+k9raU1HQqGA7Jrzv",
      "include_colab_link": true
    },
    "kernelspec": {
      "name": "python3",
      "display_name": "Python 3"
    },
    "language_info": {
      "name": "python"
    }
  },
  "cells": [
    {
      "cell_type": "markdown",
      "metadata": {
        "id": "view-in-github",
        "colab_type": "text"
      },
      "source": [
        "<a href=\"https://colab.research.google.com/github/AbhaySooraj/Sixth-Semester/blob/main/DFS.ipynb\" target=\"_parent\"><img src=\"https://colab.research.google.com/assets/colab-badge.svg\" alt=\"Open In Colab\"/></a>"
      ]
    },
    {
      "cell_type": "code",
      "source": [
        "x=int(input(\"Enter the number of nodes :\"))\n",
        "graph={}\n",
        "for i in range(x):\n",
        "  y=input(\"Enter parent node :\")\n",
        "  z=input(\"Enter child nodes :\")\n",
        "  z=z.split()\n",
        "  graph[y]=z\n",
        "def dfs(visited,graph,node):\n",
        "  if(node not in visited):\n",
        "    print(node)\n",
        "    visited.append(node)\n",
        "    for neighbour in graph[node]:\n",
        "      dfs(visited,graph,neighbour)\n",
        "visited=[]\n",
        "dfs(visited, graph, \"a\")"
      ],
      "metadata": {
        "colab": {
          "base_uri": "https://localhost:8080/"
        },
        "id": "QIXC1EGYlYiW",
        "outputId": "51d366f3-e4f0-4759-f587-e5d0ab566fbe"
      },
      "execution_count": 35,
      "outputs": [
        {
          "output_type": "stream",
          "name": "stdout",
          "text": [
            "Enter the number of nodes :5\n",
            "Enter parent node :a\n",
            "Enter child nodes :b c\n",
            "Enter parent node :b\n",
            "Enter child nodes :a c d\n",
            "Enter parent node :c\n",
            "Enter child nodes :a b d e\n",
            "Enter parent node :d\n",
            "Enter child nodes :b c e\n",
            "Enter parent node :e\n",
            "Enter child nodes :c d\n",
            "a\n",
            "b\n",
            "c\n",
            "d\n",
            "e\n"
          ]
        }
      ]
    }
  ]
}