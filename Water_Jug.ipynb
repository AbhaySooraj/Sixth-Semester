{
  "nbformat": 4,
  "nbformat_minor": 0,
  "metadata": {
    "colab": {
      "provenance": [],
      "authorship_tag": "ABX9TyP9MHMZXdQgra2i/FtkeAcJ",
      "include_colab_link": true
    },
    "kernelspec": {
      "name": "python3",
      "display_name": "Python 3"
    },
    "language_info": {
      "name": "python"
    }
  },
  "cells": [
    {
      "cell_type": "markdown",
      "metadata": {
        "id": "view-in-github",
        "colab_type": "text"
      },
      "source": [
        "<a href=\"https://colab.research.google.com/github/AbhaySooraj/Sixth-Semester/blob/main/Water_Jug.ipynb\" target=\"_parent\"><img src=\"https://colab.research.google.com/assets/colab-badge.svg\" alt=\"Open In Colab\"/></a>"
      ]
    },
    {
      "cell_type": "code",
      "execution_count": 1,
      "metadata": {
        "colab": {
          "base_uri": "https://localhost:8080/"
        },
        "id": "t5o1YmfBXSvB",
        "outputId": "36396aea-407c-4ad0-b3fd-fc36405b5ff1"
      },
      "outputs": [
        {
          "output_type": "stream",
          "name": "stdout",
          "text": [
            "Enter capacity of jug 1 :4\n",
            "Enter capacity of jug 2 :3\n",
            "Enter aim for jug 2 :2\n",
            "The solution is :\n",
            "0 0\n",
            "4 0\n",
            "4 3\n",
            "0 3\n",
            "3 0\n",
            "3 3\n",
            "4 2\n",
            "0 2\n"
          ]
        },
        {
          "output_type": "execute_result",
          "data": {
            "text/plain": [
              "True"
            ]
          },
          "metadata": {},
          "execution_count": 1
        }
      ],
      "source": [
        "from collections import defaultdict\n",
        "visited = defaultdict(lambda: False)\n",
        "\n",
        "def waterJugSolver(amt1, amt2):\n",
        "\t# Returns true if goal achieved.\n",
        "\tif (amt1 == aim and amt2 == 0) or (amt2 == aim and amt1 == 0):\n",
        "\t\tprint(amt1, amt2)\n",
        "\t\treturn True\n",
        "\n",
        "\t# Checks if combination visited. If not, proceed.\n",
        "\tif visited[(amt1, amt2)] == False:\n",
        "\t\tprint(amt1, amt2)\n",
        "\n",
        "\t\t# Changes the boolean value of the combination as it is visited.\n",
        "\t\tvisited[(amt1, amt2)] = True\n",
        "\n",
        "\t\t# Check for all the 6 possibilities and see if a solution is found in any one of them.\n",
        "\t\treturn (waterJugSolver(0, amt2) or\n",
        "\t\t\t\twaterJugSolver(amt1, 0) or\n",
        "\t\t\t\twaterJugSolver(jug1, amt2) or\n",
        "\t\t\t\twaterJugSolver(amt1, jug2) or\n",
        "\t\t\t\twaterJugSolver(amt1 + min(amt2, (jug1-amt1)),\n",
        "\t\t\t\tamt2 - min(amt2, (jug1-amt1))) or\n",
        "\t\t\t\twaterJugSolver(amt1 - min(amt1, (jug2-amt2)),\n",
        "\t\t\t\tamt2 + min(amt1, (jug2-amt2))))\n",
        "\n",
        "\t# Return False if the combination is already visited to avoid repetition otherwise recursion will enter an infinite loop.\n",
        "\telse:\n",
        "\t\treturn False\n",
        "\n",
        "jug1=int(input(\"Enter capacity of jug 1 :\"))\n",
        "jug2=int(input(\"Enter capacity of jug 2 :\"))\n",
        "aim=int(input(\"Enter aim for jug 2 :\"))\n",
        "print(\"The solution is :\")\n",
        "waterJugSolver(0, 0)"
      ]
    }
  ]
}